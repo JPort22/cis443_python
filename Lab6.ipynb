{
 "cells": [
  {
   "cell_type": "markdown",
   "metadata": {
    "id": "g6YXO5CuvEtt"
   },
   "source": [
    "# CIS 443-01 - Analytics Programming\n",
    "## Lab 6\n",
    "__Grading ID__: P0000 (double click the cell in Jupyter to edit, find ID in Blackboard Gradebook)<br>\n",
    "__Due__: Monday, October 25 (by 11:59 PM)<br />\n",
    "__Worth__: 25 pts."
   ]
  },
  {
   "cell_type": "markdown",
   "metadata": {
    "id": "B6sRXvrTvEtv"
   },
   "source": [
    "### Directions\n",
    "**Exercise 6.7, p. 235 (Character Counts)** Recall that strings are sequences of characters. Use techniques similar to **Fig. 6.2** to write a script that inputs a sentence from the user, then uses a dictionary to summarize the number of occurrences of each letter. Ignore case, ignore blanks, and you assume the user does not enter any punctuation (or you can just count the characters that are letters). Display a two-column table of the letters and their counts with the letters in sorted order. Finally, use a `set` operation to determine which letters of the alphabet were not in the original string and print this result, as well. Test your source code and save your work before submission.<br>\n",
    "**Hint**: It will be helpful to have a string variable with all the lowercase or uppercase letters to determine which letters of the alphabet were not in the entered string. Luckily, Python provides such strings in the `string` module as <a href=\"https://docs.python.org/3/library/string.html#string.ascii_lowercase\" target=\"_blank\">`string.ascii_lowercase`</a> and <a href=\"https://docs.python.org/3/library/string.html#string.ascii_uppercase\" target=\"_blank\">`string.ascii_uppercase`</a>. Then you can use set difference to answer this question.\n"
   ]
  },
  {
   "cell_type": "code",
   "execution_count": 9,
   "metadata": {
    "id": "8cS_2x47vEty"
   },
   "outputs": [
    {
     "name": "stdin",
     "output_type": "stream",
     "text": [
      "Please enter sentence: Hello There FriEnd\n"
     ]
    },
    {
     "name": "stdout",
     "output_type": "stream",
     "text": [
      "LETTER      COUNT\n",
      "d           1\n",
      "e           4\n",
      "f           1\n",
      "h           2\n",
      "i           1\n",
      "l           2\n",
      "n           1\n",
      "o           1\n",
      "r           2\n",
      "t           1\n",
      "{'o', 'd', 'r', ' ', 'e', 'h', 't', 'f', 'l', 'i', 'n'}\n",
      "['a', 'b', 'c', 'g', 'j', 'k', 'm', 'p', 'q', 's', 'u', 'v', 'w', 'x', 'y', 'z']\n"
     ]
    }
   ],
   "source": [
    "# Grading ID: P9941\n",
    "# CIS 443-01 \n",
    "#Lab 6\n",
    "import string\n",
    "from collections import Counter\n",
    "sentence = input(\"Please enter sentence:\").lower() #input from user - obtains sentence  \n",
    "letters = set(string.ascii_lowercase) #variable of set of lower case letters\n",
    "letter_count = {} #empty dictionary for the letter count from the sentence \n",
    "sentence_set = set(sentence)#makes a set out of user input for sentence\n",
    "for word in sentence:#for each word in the sentence\n",
    "    for letter in word.split():#for each letter in each word in the sentence\n",
    "        if letter in letter_count:#if the letter \n",
    "            letter_count[letter] += 1#this would update a key-value pair but dictionary is empty\n",
    "            \n",
    "        else:\n",
    "            letter_count[letter] = 1#this just adds key value pair to empty dictionary\n",
    "            \n",
    "print(f'{\"LETTER\":<12}COUNT')#prints column headings for letter and count\n",
    "\n",
    "for letter, count in sorted(letter_count.items()):#for each letter count in ascending sorted order\n",
    "    print(f'{letter:<12}{count}')#prints letter and corresponding count\n",
    "\n",
    "print(sentence_set)#prints the original sentence letters\n",
    "print(sorted(letters.difference(sentence_set))) #prints the difference in letters and removes them to show letters not used"
   ]
  },
  {
   "cell_type": "markdown",
   "metadata": {
    "id": "TjAb_IeFvEt0"
   },
   "source": [
    "Be sure to save and exit your Jupyter Notebook and Shutdown Jupyter Lab (from the __File__ menu) if using Ananconda before you submit your notebook on Blackboard for grading. If using Colab, be sure to Download (from the __File__ menu) back to your local file system before submitting to Blackboard.\n",
    "Make sure you don't submit the empty starting notebook by accident."
   ]
  }
 ],
 "metadata": {
  "colab": {
   "collapsed_sections": [],
   "name": "Lab6.ipynb",
   "provenance": []
  },
  "kernelspec": {
   "display_name": "Python 3 (ipykernel)",
   "language": "python",
   "name": "python3"
  },
  "language_info": {
   "codemirror_mode": {
    "name": "ipython",
    "version": 3
   },
   "file_extension": ".py",
   "mimetype": "text/x-python",
   "name": "python",
   "nbconvert_exporter": "python",
   "pygments_lexer": "ipython3",
   "version": "3.8.11"
  }
 },
 "nbformat": 4,
 "nbformat_minor": 4
}
