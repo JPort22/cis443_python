{
 "cells": [
  {
   "cell_type": "markdown",
   "metadata": {
    "id": "lN1bE03duXEt"
   },
   "source": [
    "# CIS 443-01 - Analytics Programming\n",
    "## Lab 4\n",
    "__Grading ID__: P0000 (double click the cell in Jupyter to edit, find ID in Blackboard Gradebook)<br>\n",
    "__Due__: Monday, September 27 (by 11:59 PM)<br />\n",
    "__Worth__: 25 pts."
   ]
  },
  {
   "cell_type": "markdown",
   "metadata": {
    "id": "P2g2ldwsuXEx"
   },
   "source": [
    "### Directions\n",
    "In the code cell below, write Python code to accomplish the following using what you've learned through Chapter 4. Let's continue our exploration of Pi by creating a new estimate using Monte Carlo simulation. The approach will follow Example 1 from the following article:\n",
    "\n",
    "<a href=\"https://medium.com/cantors-paradise/estimating-%CF%80-using-monte-carlo-simulations-3459a84b5ef9\" target=\"_blank\">Estimating π using Monte Carlo simulations</a>\n",
    "\n",
    "This technique relies on simulation and random numbers to estimate the value of Pi essentially by throwing darts at a board inscribed with a circle and counting how many darts land inside the circle and how many land outside the circle. For everyone's safety, let's stick to a computer-based simulation! To simplify, we'll use the first quadrant unit square as suggested in the article.\n",
    "\n",
    "The approach will work as follows:\n",
    "1. For each dart thrown, generate its coordinates, _x_ and _y_, using a random uniform distribution from 0 - 1. The Python function __random.random__ will include the 0 endpoint but exclude the 1 endpoint. The Python function __random.uniform__ may include the 1 endpoint. See <a href=\"https://docs.python.org/3/library/random.html\" target=\"_blank\">Python documenation for random module</a> for more details.\n",
    "1. If the dart is inside the quarter-circle, count it. A dart is inside the quarter-circle if its distance from the origin (0, 0) is <= 1. You may use the simplified distance formula: $D = \\sqrt{x^2 + y^2}$\n",
    "1. After all the darts have been thrown and counted, Pi may be estimated as: $π = 4 \\cdot \\frac{NumDartsInsideCircle}{TotalNumDarts}$\n",
    "\n",
    "Write a function named __estimate_pi_mc__ that takes a single integer parameter, the number of darts to throw, and returns the estimate of Pi using this Monte Carlo simulation approach. Also include code that will prompt the user for the number of darts they wish to use in the estimate. Call your function with this value and display the estimate with 6 digits of precision. Use sentinel-control to repeat this process until the user enters a number of darts that is <= 0. (25 pts.)\n"
   ]
  },
  {
   "cell_type": "code",
   "execution_count": null,
   "metadata": {
    "id": "BT0x-iUNuXEy"
   },
   "outputs": [],
   "source": [
    "# Grading ID: P9941\n",
    "# CIS 443-01, Lab 4, Due 9/27\n",
    "\n",
    "# Purpose: To create estimations of pi using the Monte Carlo method\n",
    "import random #imports random module\n",
    "import math #imports math module\n",
    "def estimate_pi_mc(numdarts_throw):#defining function estimate_pi_mc with single parameter\n",
    "    numdarts_inside = 0#number of darts inside starting at 0\n",
    "    for i in range(numdarts_throw):#for loop for stepping through each instance of dart thrown\n",
    "        x_coord = random.uniform(0, 1)#assigns random x coordinate for numdarts thrown\n",
    "        y_coord = random.uniform(0, 1)#assigns random y coordinate for numdarts thrown\n",
    "        dist_from_origin = math.sqrt(x_coord**2 + y_coord**2)#distance from origin equation to determine if dart is inside\n",
    "        if dist_from_origin <= 1:#if dart inside\n",
    "            numdarts_inside += 1#num of darts inside is += 1, adding to total inside\n",
    "    pi_estimation = 4 * (numdarts_inside / numdarts_throw)#pi estimation formula using variables of darts inside and total darts thrown\n",
    "    return pi_estimation #returns pi estimation result to be printed later\n",
    "\n",
    "#sentinel control while loop\n",
    "numdarts_throw = int(input('Please enter number of darts to throw:'))#first instance of input statement\n",
    "while numdarts_throw > 0:#while darts wanting to be thrown isnt less than 0\n",
    "    print(f'The estimation of pi is, {estimate_pi_mc(numdarts_throw):.6f}')#prints pi_estimation calculation result\n",
    "    numdarts_throw = int(input('Please enter number of darts to throw:'))#second instance of input statement while total darts thrown is greater than 0\n"
   ]
  },
  {
   "cell_type": "markdown",
   "metadata": {
    "id": "q8s79p9EuXEz"
   },
   "source": [
    "Be sure to save and exit your Jupyter Notebook and Shutdown Jupyter Lab (from the __File__ menu) if using Ananconda before you submit your notebook on Blackboard for grading. If using Colab, be sure to Download (from the __File__ menu) back to your local file system before submitting to Blackboard.\n",
    "Make sure you don't submit the empty starting notebook by accident."
   ]
  }
 ],
 "metadata": {
  "colab": {
   "collapsed_sections": [],
   "name": "Lab4.ipynb",
   "provenance": []
  },
  "kernelspec": {
   "display_name": "Python 3 (ipykernel)",
   "language": "python",
   "name": "python3"
  },
  "language_info": {
   "codemirror_mode": {
    "name": "ipython",
    "version": 3
   },
   "file_extension": ".py",
   "mimetype": "text/x-python",
   "name": "python",
   "nbconvert_exporter": "python",
   "pygments_lexer": "ipython3",
   "version": "3.8.11"
  }
 },
 "nbformat": 4,
 "nbformat_minor": 4
}
