{
 "cells": [
  {
   "cell_type": "markdown",
   "metadata": {
    "id": "o_DB20nBqfOa"
   },
   "source": [
    "# CIS 443-01 - Analytics Programming\n",
    "## Lab 7\n",
    "__Grading ID__: P0000 (double click the cell in Jupyter to edit, find ID in Blackboard Gradebook)<br>\n",
    "__Due__: Monday, November 1 (by 11:59 PM)<br />\n",
    "__Worth__: 25 pts."
   ]
  },
  {
   "cell_type": "markdown",
   "metadata": {
    "id": "LxPfkl55qfOd"
   },
   "source": [
    "### Directions\n",
    "**Exercise 8.5, p. 313 (Character Counts)** Write a script that reads a line of text, tokenizes the line using space characters as delimiters and outputs only those words beginning with the letter 'b'.\n"
   ]
  },
  {
   "cell_type": "code",
   "execution_count": 7,
   "metadata": {
    "id": "TNlJkT_IqfOe"
   },
   "outputs": [
    {
     "name": "stdin",
     "output_type": "stream",
     "text": [
      "Please enter text: I like Buttered popcorn Better than basic popcorn\n"
     ]
    },
    {
     "name": "stdout",
     "output_type": "stream",
     "text": [
      "['buttered', 'better', 'basic']\n"
     ]
    }
   ],
   "source": [
    "#Grading ID: P9941\n",
    "#CIS 443-01\n",
    "#Lab 7\n",
    "input_text = input('Please enter text:').lower()#user input to obtain string\n",
    "output = []#empty list to append b words to\n",
    "for word in input_text.split( ):#for loop that searches through each word after space bar has been pressed - split as such(tokenized)\n",
    "    if word.startswith('b'):#conditional statement to check if word starts with letter b\n",
    "        output.append(word)#append b word to output list\n",
    "print(output)#prints list of b words"
   ]
  },
  {
   "cell_type": "markdown",
   "metadata": {
    "id": "cf1qpNp4qfOg"
   },
   "source": [
    "Be sure to save and exit your Jupyter Notebook and Shutdown Jupyter Lab (from the __File__ menu) if using Ananconda before you submit your notebook on Blackboard for grading. If using Colab, be sure to Download (from the __File__ menu) back to your local file system before submitting to Blackboard.\n",
    "Make sure you don't submit the empty starting notebook by accident."
   ]
  }
 ],
 "metadata": {
  "colab": {
   "collapsed_sections": [],
   "name": "Lab7.ipynb",
   "provenance": []
  },
  "kernelspec": {
   "display_name": "Python 3 (ipykernel)",
   "language": "python",
   "name": "python3"
  },
  "language_info": {
   "codemirror_mode": {
    "name": "ipython",
    "version": 3
   },
   "file_extension": ".py",
   "mimetype": "text/x-python",
   "name": "python",
   "nbconvert_exporter": "python",
   "pygments_lexer": "ipython3",
   "version": "3.8.11"
  }
 },
 "nbformat": 4,
 "nbformat_minor": 4
}
