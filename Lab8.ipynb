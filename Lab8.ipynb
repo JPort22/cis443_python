{
 "cells": [
  {
   "cell_type": "markdown",
   "metadata": {
    "id": "EdV2JXRL_KWg"
   },
   "source": [
    "# CIS 443-01 - Analytics Programming\n",
    "## Lab 8\n",
    "__Grading ID__: P9941(double click the cell in Jupyter to edit)<br>\n",
    "__Due__: Monday, November 15 (by 11:59 PM)<br />\n",
    "__Worth__: 25 pts."
   ]
  },
  {
   "cell_type": "markdown",
   "metadata": {
    "id": "Zp_4VjHM_KWk"
   },
   "source": [
    "### Directions\n",
    "In the code cell below, write Python code to complete __Exercise 9.3 (Class Average: Writing Student Records to a CSV File)__\n",
    "<p>An instructor teaches a class in which each student takes three exams. The instructor would like to store this information in a file named grades.csv for later use. Write code that enables an instructor to enter each student&rsquo;s first name and last name as strings and the student&rsquo;s three exam grades as integers. Use the <strong>csv</strong> module to write each record into the <em>grades.csv</em> file. Each record should be a single line of text in the following CSV format:</p>\n",
    "<p><em>firstname,lastname,exam1grade,exam2grade,exam3grade</em></p>\n",
    "Test your source code and save your work before submission. (12.5 pts.)"
   ]
  },
  {
   "cell_type": "code",
   "execution_count": 1,
   "metadata": {},
   "outputs": [
    {
     "name": "stdin",
     "output_type": "stream",
     "text": [
      "Please enter students first and last name: John Smith\n",
      "Please enter students three exam scores: 98 92 95\n",
      "Would you like this student appended to reports? (Yes or No) yes\n",
      "Would you like to add another student? (Yes or No) yes\n",
      "Please enter students first and last name: Jane Doe\n",
      "Please enter students three exam scores: 99 93 91\n",
      "Would you like this student appended to reports? (Yes or No) yes\n",
      "Would you like to add another student? (Yes or No) yes\n",
      "Please enter students first and last name: Malik Jones\n",
      "Please enter students three exam scores: 100 94 97\n",
      "Would you like this student appended to reports? (Yes or No) yes\n",
      "Would you like to add another student? (Yes or No) no\n"
     ]
    }
   ],
   "source": [
    "import csv #importing csv module\n",
    "\n",
    "def report():#defining function report\n",
    "    name_input = input(\"Please enter students first and last name:\")#input to get names\n",
    "    grades_input = input(\"Please enter students three exam scores:\")#input to get grades\n",
    "    name_split = name_input.split()#splits names \n",
    "    grades_split = grades_input.split()#splits grades\n",
    "    yes = 'YES'.lower()#yes choice - lower case optional\n",
    "    for i in name_split:#index in name split 0 is first and 1 is last\n",
    "        i = 0\n",
    "        first_name = name_split[i]#firstname\n",
    "        last_name = name_split[i + 1]#lastname\n",
    "\n",
    "    for i in grades_split:#for index in grades split\n",
    "        i = 0#index starting at 0\n",
    "        exam_one = int(grades_split[i])#exam one is first item\n",
    "        exam_two = int(grades_split[i + 1])#exam 2\n",
    "        exam_three = int(grades_split[i + 2])#exam three\n",
    "    \n",
    "    list_choice = input(\"Would you like this student appended to reports? (Yes or No)\")#would you like to append to list choice option\n",
    "    \n",
    "    if list_choice == yes:#if list choice is yes\n",
    "        with open('grades.csv', 'a', newline='') as reportfile:#opens csv to wirte in\n",
    "            w = csv.writer(reportfile)#giving variable to writing access\n",
    "            w.writerow([first_name, last_name, exam_one, exam_two, exam_three])#what is being written into the file\n",
    "            add_input = input(\"Would you like to add another student? (Yes or No)\").lower()#add another student option\n",
    "            if add_input == yes:#if yes to add another student function begins again\n",
    "                report()#function called\n",
    "            else:\n",
    "                exit()#otherwise exit\n",
    "report()"
   ]
  },
  {
   "cell_type": "markdown",
   "metadata": {
    "id": "-ljGWCqb_KWn"
   },
   "source": [
    "In the code cell below, write Python code to complete __Exercises 9.4 and 9.5 (Creating a Grade Report from a CSV File)__\n",
    "<p>Use the <strong>csv</strong> module to read the <em>grades.csv</em> file from the previous exercise. Create a tabular grade report that displays each student&rsquo;s average to the right of that student&rsquo;s row (with their name and test scores) and the class average for each exam below that exam&rsquo;s column. An example report appears below.</p>\n",
    "\n",
    "<pre>\n",
    "First Name      Last Name       Exam 1 Exam 2 Exam 3 Average\n",
    "--------------- --------------- ------ ------ ------ -------\n",
    "John            Smith             98.0   92.0   95.0    95.0\n",
    "Jane            Doe               99.0   93.0   91.0    94.3\n",
    "Malik           Jones            100.0   94.0   97.0    97.0\n",
    "\n",
    "       ---Overall Exam Avgs.---   99.0   93.0   94.3\n",
    "</pre>\n",
    "Test your source code and save your work before submission. (12.5 pts.)"
   ]
  },
  {
   "cell_type": "code",
   "execution_count": 48,
   "metadata": {
    "id": "OI03_lDz_KWo"
   },
   "outputs": [
    {
     "name": "stdout",
     "output_type": "stream",
     "text": [
      "First Name  Last Name    Exam 1    Exam 2    Exam 3   Average\n",
      "---------- --------- --------- --------- --------- ---------\n",
      "Malik     Jones          100.0      94.0      97.0      97.0 \n",
      "Jane      Doe             99.0      93.0      91.0      94.3 \n",
      "John      Smith           98.0      92.0      95.0      95.0 \n",
      "\n",
      "\n",
      "---Overall Exam Avgs.--- \n"
     ]
    }
   ],
   "source": [
    "# 2nd Part of Lab 8\n",
    "import csv#importing csv module\n",
    "three = 3#three is the amount of exams\n",
    "with open('grades.csv', 'r', newline='') as reportfile:#opening csv file to read\n",
    "    print(f'{\"First Name\":<12}{\"Last Name\":<9}{\"Exam 1\":>10}{\"Exam 2\":>10}{\"Exam 3\":>10}{\"Average\":>10}')#headings for table\n",
    "    print(\"---------- --------- --------- --------- --------- ---------\")\n",
    "    reader = csv.reader(reportfile)#variable for reading\n",
    "    for record in reader:#for record within reader which is just the row\n",
    "        fname, lname, exo, ext, exth = record#first, last, exam 1, 2 ,3\n",
    "        exo_int = int(exo)#making exam 1 int\n",
    "        ext_int = int(ext)#making exam 2 int\n",
    "        exth_int = int(exth)#making exam 3 int\n",
    "        avg = (exo_int + ext_int + exth_int) / three#average for each student made\n",
    "        num_rows = 0#number of rows\n",
    "        for row in open('grades.csv'):#for rows in file \n",
    "            num_rows += 1 #counts number of rows meant to be used for exam averages\n",
    "        print(f'{fname:<10}{lname:<10}{exo_int:>10.1f}{ext_int:>10.1f}{exth_int:>10.1f}{avg:>10.1f} ')#prints record to corresponding items\n",
    "    print('\\n')#new line\n",
    "    print(f'{\"---Overall Exam Avgs.---\":^14} ')#Heading for overall exam averages\n",
    "    "
   ]
  },
  {
   "cell_type": "markdown",
   "metadata": {
    "id": "GpMfvMFi_KWo"
   },
   "source": [
    "Be sure to save and exit your Jupyter Notebook and Shutdown Jupyter Lab (from the __File__ menu) if using Ananconda before you submit your notebook on Blackboard for grading. If using Colab, be sure to Download (from the __File__ menu) back to your local file system before submitting to Blackboard.\n",
    "Make sure you don't submit the empty starting notebook by accident."
   ]
  }
 ],
 "metadata": {
  "colab": {
   "collapsed_sections": [],
   "name": "Lab8.ipynb",
   "provenance": []
  },
  "kernelspec": {
   "display_name": "Python 3 (ipykernel)",
   "language": "python",
   "name": "python3"
  },
  "language_info": {
   "codemirror_mode": {
    "name": "ipython",
    "version": 3
   },
   "file_extension": ".py",
   "mimetype": "text/x-python",
   "name": "python",
   "nbconvert_exporter": "python",
   "pygments_lexer": "ipython3",
   "version": "3.8.11"
  }
 },
 "nbformat": 4,
 "nbformat_minor": 4
}
